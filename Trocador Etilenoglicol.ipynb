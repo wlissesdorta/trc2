{
 "cells": [
  {
   "cell_type": "code",
   "execution_count": 1,
   "id": "6a8ef83e-b65f-4b7e-a033-46722212a01c",
   "metadata": {
    "tags": []
   },
   "outputs": [
    {
     "name": "stdout",
     "output_type": "stream",
     "text": [
      "y = 4.8759999999999994\n"
     ]
    }
   ],
   "source": [
    "def inter(x, x1, x2, y1, y2):\n",
    "    \"\"\"\n",
    "    Realiza uma interpolação linear simples entre dois pontos.\n",
    "\n",
    "    :param x: O valor de x onde você deseja interpolar y.\n",
    "    :param x1: O primeiro valor conhecido de x.\n",
    "    :param x2: O segundo valor conhecido de x.\n",
    "    :param y1: O valor de y correspondente a x1.\n",
    "    :param y2: O valor de y correspondente a x2.\n",
    "    \"\"\"\n",
    "    # Fórmula de interpolação linear\n",
    "    y = y1 + (y2 - y1) * (x - x1) / (x2 - x1)\n",
    "    \n",
    "    # Exibe o valor interpolado\n",
    "    print(f\"y = {y}\")\n",
    "\n",
    "# Exemplo de uso:\n",
    "inter(36, 20, 40, 7.02, 4.34)\n"
   ]
  },
  {
   "cell_type": "code",
   "execution_count": 82,
   "id": "d8666349-090c-4d78-b41a-f3cdd4b99f36",
   "metadata": {
    "tags": []
   },
   "outputs": [],
   "source": [
    "%reset -f\n",
    "import math\n",
    "from sympy import symbols, Eq, solve\n",
    "import pandas as pd\n",
    "import matplotlib.pyplot as plt\n",
    "import plotly.graph_objects as go"
   ]
  },
  {
   "cell_type": "code",
   "execution_count": 83,
   "id": "c1b08d63-8e7f-4ff6-899e-495010e738a1",
   "metadata": {
    "tags": []
   },
   "outputs": [],
   "source": [
    "# Variáveis do fluido externo Anel (Frio) Etilenoglicol\n",
    "# T média = 64,82 °C\n",
    "m_a = 3.78  # Vazão mássica do fluido externo (kg/s)\n",
    "T_a = 32  # Temperatura de entrada do fluido externo (°C)\n",
    "rho_a = 1084\n",
    "cp_a = 2583  # Capacidade calorífica específica do fluido externo (J/kg.K)\n",
    "k_a = 0.26  # Condutividade térmica do fluido externo (W/m.K)\n",
    "v_a = 4.32 * 10**(-6)\n",
    "Pr_a = 46.52  # Número de Prandtl do fluido externo (adimensional)"
   ]
  },
  {
   "cell_type": "code",
   "execution_count": 84,
   "id": "812b8946-46d3-4775-8e39-9fba0e2a98cb",
   "metadata": {
    "tags": []
   },
   "outputs": [],
   "source": [
    "# Variáveis do fluido interno  Tubo (Quente) (Água)\n",
    "# T média = 36 °C\n",
    "m_t = 0.6  # Vazão mássica do fluido interno (tubo) (kg/s)\n",
    "T_t = 80  # Temperatura de entrada do fluido interno (°C)\n",
    "rho_t = 995\n",
    "cp_t = 4178.6  #  Capacidade calorífica específica do fluido interno (J/kg.K)\n",
    "k_t = 0.622  # Condutividade térmica do fluido interno (W/m.K)\n",
    "v_t = 7.276 * 10**(-7)\n",
    "Pr_t = 4.87  # Número de Prandtl do fluido interno (adimensional)"
   ]
  },
  {
   "cell_type": "code",
   "execution_count": 85,
   "id": "b6d024d1-fe7d-4f6e-9ffc-3e85b9219d90",
   "metadata": {
    "tags": []
   },
   "outputs": [],
   "source": [
    "# Variáveis do Trocador de Calor\n",
    "Di_a = 51 / 1000   # Diâmetro externo do anel externo (mm convertido para m)\n",
    "Di_t = 32.8 / 1000   # Diâmetro interno do tubo interno (mm convertido para m)\n",
    "De_t = 32.8 /1000    # Diâmetro Externo do tubo interno (mm convertido para m)\n",
    "L = 20  # Comprimento do trocador (m)\n",
    "N = 10  # Número total de segmentos (adimensional)"
   ]
  },
  {
   "cell_type": "code",
   "execution_count": 86,
   "id": "65cedb34-4af1-4433-bedc-0161428769c0",
   "metadata": {
    "tags": []
   },
   "outputs": [
    {
     "data": {
      "text/plain": [
       "0.001197857862887252"
      ]
     },
     "execution_count": 86,
     "metadata": {},
     "output_type": "execute_result"
    }
   ],
   "source": [
    "A_t = (math.pi*Di_t**2)/4\n",
    "A_a = (math.pi*(Di_a**2-De_t**2))/4\n",
    "A_a"
   ]
  },
  {
   "cell_type": "code",
   "execution_count": 87,
   "id": "9bb07729-8b03-47bd-bc56-78cee12f487c",
   "metadata": {
    "tags": []
   },
   "outputs": [
    {
     "data": {
      "text/plain": [
       "2.9111007064257413"
      ]
     },
     "execution_count": 87,
     "metadata": {},
     "output_type": "execute_result"
    }
   ],
   "source": [
    "V_t = m_t / (rho_t*A_t)\n",
    "V_a = m_a / (rho_a*A_a)\n",
    "V_a"
   ]
  },
  {
   "cell_type": "code",
   "execution_count": 88,
   "id": "da3d61a8-d2da-42aa-8d1f-6a494863315d",
   "metadata": {
    "tags": []
   },
   "outputs": [
    {
     "data": {
      "text/plain": [
       "0.0182"
      ]
     },
     "execution_count": 88,
     "metadata": {},
     "output_type": "execute_result"
    }
   ],
   "source": [
    "D_h = Di_a-De_t\n",
    "D_h"
   ]
  },
  {
   "cell_type": "code",
   "execution_count": 89,
   "id": "70680d88-267d-4f88-b0b4-84a207ada632",
   "metadata": {
    "tags": []
   },
   "outputs": [
    {
     "data": {
      "text/plain": [
       "0.046498780487804876"
      ]
     },
     "execution_count": 89,
     "metadata": {},
     "output_type": "execute_result"
    }
   ],
   "source": [
    "D_eq = (Di_a**2 - De_t**2)/De_t\n",
    "D_eq"
   ]
  },
  {
   "cell_type": "code",
   "execution_count": 90,
   "id": "3ee975dc-3489-484a-90b2-0afd47cfa4f3",
   "metadata": {
    "tags": []
   },
   "outputs": [
    {
     "data": {
      "text/plain": [
       "31333.942760644502"
      ]
     },
     "execution_count": 90,
     "metadata": {},
     "output_type": "execute_result"
    }
   ],
   "source": [
    "Re_t = V_t * Di_t/ v_t\n",
    "Re_a = V_a * D_eq/ v_a\n",
    "Re_a"
   ]
  },
  {
   "cell_type": "code",
   "execution_count": 91,
   "id": "31915d45-3bd2-42f9-8a60-75a140dd6444",
   "metadata": {
    "tags": []
   },
   "outputs": [
    {
     "data": {
      "text/plain": [
       "422.27537379923757"
      ]
     },
     "execution_count": 91,
     "metadata": {},
     "output_type": "execute_result"
    }
   ],
   "source": [
    "Nu_t = 0.023 * Re_t**(4/5) * Pr_t**0.3  # Número de Nusselt para o fluido quente (adimensional)\n",
    "Nu_a = 0.023 * Re_a**(4/5) * Pr_a**0.4  # Número de Nusselt para o fluido frio (adimensional)\n",
    "Nu_a"
   ]
  },
  {
   "cell_type": "code",
   "execution_count": 92,
   "id": "a0eb0b5e-288c-4dd9-846c-193fd70792ac",
   "metadata": {
    "tags": []
   },
   "outputs": [
    {
     "data": {
      "text/plain": [
       "2361.1715411890546"
      ]
     },
     "execution_count": 92,
     "metadata": {},
     "output_type": "execute_result"
    }
   ],
   "source": [
    "h_t = Nu_t * k_t / Di_t\n",
    "h_a = Nu_a * k_a / D_eq\n",
    "h_a"
   ]
  },
  {
   "cell_type": "code",
   "execution_count": 93,
   "id": "c89a0626-e840-4fde-a2a6-add593f3560d",
   "metadata": {
    "tags": []
   },
   "outputs": [
    {
     "data": {
      "text/plain": [
       "1287.3343663066325"
      ]
     },
     "execution_count": 93,
     "metadata": {},
     "output_type": "execute_result"
    }
   ],
   "source": [
    "U = 1 / ((1 / h_t) + (1 / h_a))  # Coeficiente global de transferência de calor (W/m².K)\n",
    "U"
   ]
  },
  {
   "cell_type": "code",
   "execution_count": 94,
   "id": "89159d54-0944-42af-9951-f8d45d9919d0",
   "metadata": {
    "tags": []
   },
   "outputs": [],
   "source": [
    "dx = L / N  # Comprimento de cada segmento (m)\n",
    "\n",
    "A = math.pi * Di_t * dx #Área da superfície de troca de calor\n",
    "\n",
    "C_q = m_t * cp_t # Capacidade térmica do fluido quente (W/K)\n",
    "C_f = m_a * cp_a # Capacidade térmica do fluido frio (W/K)\n"
   ]
  },
  {
   "cell_type": "code",
   "execution_count": 95,
   "id": "fa995f71-8ef0-490f-9c03-2704a51aedba",
   "metadata": {
    "tags": []
   },
   "outputs": [
    {
     "name": "stdout",
     "output_type": "stream",
     "text": [
      "Número de Reynolds para o fluido frio (Re_a): 31333.94\n",
      "Número de Reynolds para o fluido quente (Re_t): 32171.53\n",
      "Número de Nusselt para o fluido frio (Nu_a): 422.28\n",
      "Número de Nusselt para o fluido quente (Nu_t): 149.27\n",
      "Coeficiente de transferência de calor para o fluido frio (h_a): 2361.17 W/m².K\n",
      "Coeficiente de transferência de calor para o fluido quente (h_t): 2830.61 W/m².K\n",
      "Coeficiente global de transferência de calor (U): 1287.33 W/m².K\n",
      "Comprimento de cada segmento (dx): 2.00 m\n",
      "Capacidade térmica do fluido quente (C_q): 2507.16 W/K\n",
      "Capacidade térmica do fluido frio (C_f): 9763.74 W/K\n"
     ]
    }
   ],
   "source": [
    "# Impressão dos resultados\n",
    "print(f\"Número de Reynolds para o fluido frio (Re_a): {Re_a:.2f}\")\n",
    "print(f\"Número de Reynolds para o fluido quente (Re_t): {Re_t:.2f}\")\n",
    "print(f\"Número de Nusselt para o fluido frio (Nu_a): {Nu_a:.2f}\")\n",
    "print(f\"Número de Nusselt para o fluido quente (Nu_t): {Nu_t:.2f}\")\n",
    "print(f\"Coeficiente de transferência de calor para o fluido frio (h_a): {h_a:.2f} W/m².K\")\n",
    "print(f\"Coeficiente de transferência de calor para o fluido quente (h_t): {h_t:.2f} W/m².K\")\n",
    "print(f\"Coeficiente global de transferência de calor (U): {U:.2f} W/m².K\")\n",
    "print(f\"Comprimento de cada segmento (dx): {dx:.2f} m\")\n",
    "print(f\"Capacidade térmica do fluido quente (C_q): {C_q:.2f} W/K\")\n",
    "print(f\"Capacidade térmica do fluido frio (C_f): {C_f:.2f} W/K\")"
   ]
  },
  {
   "cell_type": "code",
   "execution_count": 96,
   "id": "ae0f90d6-c13a-4e2a-bc72-66d40bc896bf",
   "metadata": {
    "tags": []
   },
   "outputs": [],
   "source": [
    "T_q = T_t\n",
    "T_f = T_a"
   ]
  },
  {
   "cell_type": "code",
   "execution_count": 97,
   "id": "04642db7-0bcd-402c-848a-21f1f5ca532c",
   "metadata": {
    "tags": []
   },
   "outputs": [],
   "source": [
    "# Cria variáveis para cada ponto de temperatura quente\n",
    "T_quente = symbols('T_quente0:%d' % (N + 1))\n",
    "# Cria variáveis para cada ponto de temperatura fria\n",
    "T_frio = symbols('T_frio0:%d' % (N + 1))\n",
    "\n",
    "# Criar listas vazias de equações\n",
    "Equacoes_Quente = []\n",
    "Equacoes_Frio = []\n",
    "\n",
    "# Loop para criar as equações\n",
    "for i in range(N):\n",
    "    # Define a equação no lado quente do trocador\n",
    "    eq_q = Eq(C_q * (T_quente[i] - T_quente[i + 1]), \n",
    "               ((U * A) / 2) * (T_quente[i] + T_quente[i + 1] - T_frio[i] - T_frio[i + 1]))\n",
    "    # Define a equação no lado frio do trocador\n",
    "    eq_f = Eq(-C_f * (T_frio[i + 1] - T_frio[i]), \n",
    "               ((U * A) / 2) * (T_quente[i] + T_quente[i + 1] - T_frio[i] - T_frio[i + 1]))\n",
    "    # Adiciona a equação para o lado quente à lista de equações\n",
    "    Equacoes_Quente.append(eq_q)\n",
    "    # Adiciona a equação para o lado frio à lista de equações\n",
    "    Equacoes_Frio.append(eq_f)\n",
    "\n",
    "\n",
    "# Substitui T_quente[0] por T_q e T_frio[N] por T_f nas equações do lado quente\n",
    "Equacoes_Quente = [eq.subs({T_quente[0]: T_q, T_frio[N]: T_f}) for eq in Equacoes_Quente]\n",
    "# Substitui T_quente[0] por T_q e T_frio[N] por T_f nas equações do lado frio\n",
    "Equacoes_Frio = [eq.subs({T_quente[0]: T_q, T_frio[N]: T_f}) for eq in Equacoes_Frio]\n",
    "\n",
    "# Resolve o sistema combinado de equações para encontrar as temperaturas em cada ponto\n",
    "solucao = solve(Equacoes_Quente + Equacoes_Frio, T_quente + T_frio)\n",
    "\n",
    "# Adiciona T_q ao início da lista e depois os pontos intermediários\n",
    "temperaturas_quente = [T_q] + [solucao[T_quente[i]] for i in range(1, N + 1)]\n",
    "# Adiciona os pontos intermediários e T_f ao final da lista\n",
    "temperaturas_frio = [solucao[T_frio[i]] for i in range(N)] + [T_f]\n",
    "\n",
    "# Cria um DataFrame para organizar e exibir as temperaturas calculadas para cada segmento\n",
    "df = pd.DataFrame({\n",
    "    'Segmento': range(N + 1),  # Cria uma coluna para o número do segmento\n",
    "    'Temperatura Quente (°C)': temperaturas_quente,  # Adiciona as temperaturas quentes calculadas\n",
    "    'Temperatura Frio (°C)': temperaturas_frio  # Adiciona as temperaturas frias calculadas\n",
    "})\n"
   ]
  },
  {
   "cell_type": "code",
   "execution_count": 98,
   "id": "34fa7215-6eea-4f40-8ada-9e5f633d1bf2",
   "metadata": {
    "tags": []
   },
   "outputs": [
    {
     "data": {
      "text/html": [
       "<style type=\"text/css\">\n",
       "</style>\n",
       "<table id=\"T_89805\">\n",
       "  <thead>\n",
       "    <tr>\n",
       "      <th id=\"T_89805_level0_col0\" class=\"col_heading level0 col0\" >L(metro)</th>\n",
       "      <th id=\"T_89805_level0_col1\" class=\"col_heading level0 col1\" >Temperatura Quente (°C)</th>\n",
       "      <th id=\"T_89805_level0_col2\" class=\"col_heading level0 col2\" >Temperatura Frio (°C)</th>\n",
       "    </tr>\n",
       "  </thead>\n",
       "  <tbody>\n",
       "    <tr>\n",
       "      <td id=\"T_89805_row0_col0\" class=\"data row0 col0\" >0.00</td>\n",
       "      <td id=\"T_89805_row0_col1\" class=\"data row0 col1\" >80.000</td>\n",
       "      <td id=\"T_89805_row0_col2\" class=\"data row0 col2\" >39.603</td>\n",
       "    </tr>\n",
       "    <tr>\n",
       "      <td id=\"T_89805_row1_col0\" class=\"data row1 col0\" >2.00</td>\n",
       "      <td id=\"T_89805_row1_col1\" class=\"data row1 col1\" >75.887</td>\n",
       "      <td id=\"T_89805_row1_col2\" class=\"data row1 col2\" >38.547</td>\n",
       "    </tr>\n",
       "    <tr>\n",
       "      <td id=\"T_89805_row2_col0\" class=\"data row2 col0\" >4.00</td>\n",
       "      <td id=\"T_89805_row2_col1\" class=\"data row2 col1\" >72.085</td>\n",
       "      <td id=\"T_89805_row2_col2\" class=\"data row2 col2\" >37.571</td>\n",
       "    </tr>\n",
       "    <tr>\n",
       "      <td id=\"T_89805_row3_col0\" class=\"data row3 col0\" >6.00</td>\n",
       "      <td id=\"T_89805_row3_col1\" class=\"data row3 col1\" >68.571</td>\n",
       "      <td id=\"T_89805_row3_col2\" class=\"data row3 col2\" >36.668</td>\n",
       "    </tr>\n",
       "    <tr>\n",
       "      <td id=\"T_89805_row4_col0\" class=\"data row4 col0\" >8.00</td>\n",
       "      <td id=\"T_89805_row4_col1\" class=\"data row4 col1\" >65.323</td>\n",
       "      <td id=\"T_89805_row4_col2\" class=\"data row4 col2\" >35.834</td>\n",
       "    </tr>\n",
       "    <tr>\n",
       "      <td id=\"T_89805_row5_col0\" class=\"data row5 col0\" >10.00</td>\n",
       "      <td id=\"T_89805_row5_col1\" class=\"data row5 col1\" >62.320</td>\n",
       "      <td id=\"T_89805_row5_col2\" class=\"data row5 col2\" >35.063</td>\n",
       "    </tr>\n",
       "    <tr>\n",
       "      <td id=\"T_89805_row6_col0\" class=\"data row6 col0\" >12.00</td>\n",
       "      <td id=\"T_89805_row6_col1\" class=\"data row6 col1\" >59.545</td>\n",
       "      <td id=\"T_89805_row6_col2\" class=\"data row6 col2\" >34.351</td>\n",
       "    </tr>\n",
       "    <tr>\n",
       "      <td id=\"T_89805_row7_col0\" class=\"data row7 col0\" >14.00</td>\n",
       "      <td id=\"T_89805_row7_col1\" class=\"data row7 col1\" >56.980</td>\n",
       "      <td id=\"T_89805_row7_col2\" class=\"data row7 col2\" >33.692</td>\n",
       "    </tr>\n",
       "    <tr>\n",
       "      <td id=\"T_89805_row8_col0\" class=\"data row8 col0\" >16.00</td>\n",
       "      <td id=\"T_89805_row8_col1\" class=\"data row8 col1\" >54.609</td>\n",
       "      <td id=\"T_89805_row8_col2\" class=\"data row8 col2\" >33.083</td>\n",
       "    </tr>\n",
       "    <tr>\n",
       "      <td id=\"T_89805_row9_col0\" class=\"data row9 col0\" >18.00</td>\n",
       "      <td id=\"T_89805_row9_col1\" class=\"data row9 col1\" >52.417</td>\n",
       "      <td id=\"T_89805_row9_col2\" class=\"data row9 col2\" >32.520</td>\n",
       "    </tr>\n",
       "    <tr>\n",
       "      <td id=\"T_89805_row10_col0\" class=\"data row10 col0\" >20.00</td>\n",
       "      <td id=\"T_89805_row10_col1\" class=\"data row10 col1\" >50.391</td>\n",
       "      <td id=\"T_89805_row10_col2\" class=\"data row10 col2\" >32.000</td>\n",
       "    </tr>\n",
       "  </tbody>\n",
       "</table>\n"
      ],
      "text/plain": [
       "<pandas.io.formats.style.Styler at 0x7f7670734d50>"
      ]
     },
     "execution_count": 98,
     "metadata": {},
     "output_type": "execute_result"
    }
   ],
   "source": [
    "df2 = df.copy()\n",
    "# Renomear a coluna \"Segmento\" para \"L(metro)\"\n",
    "df2.rename(columns={'Segmento': 'L(metro)'}, inplace=True)\n",
    "\n",
    "# Atualizar os valores da coluna \"L(metro)\"\n",
    "df2['L(metro)'] = df2['L(metro)'] * L / N\n",
    "\n",
    "\n",
    "df2['Temperatura Quente (°C)'] = df2['Temperatura Quente (°C)'].astype(float)\n",
    "df2['Temperatura Frio (°C)'] = df2['Temperatura Frio (°C)'].astype(float)\n",
    "\n",
    "\n",
    "Resultado = df2.style.format({\n",
    "    'L(metro)': '{:.2f}',\n",
    "    'Temperatura Quente (°C)': '{:.3f}',\n",
    "    'Temperatura Frio (°C)': '{:.3f}'\n",
    "}).hide(axis='index')\n",
    "\n",
    "Resultado"
   ]
  },
  {
   "cell_type": "code",
   "execution_count": 99,
   "id": "4c1fb4f6-635e-49d9-a91b-2f40f0e27214",
   "metadata": {
    "tags": []
   },
   "outputs": [
    {
     "data": {
      "application/vnd.plotly.v1+json": {
       "config": {
        "plotlyServerURL": "https://plot.ly"
       },
       "data": [
        {
         "hovertemplate": "<b>Distância: %{x:.2f} m</b><br>Temperatura Quente: %{y:.2f} °C<extra></extra>",
         "line": {
          "color": "red"
         },
         "mode": "lines+markers",
         "name": "Temperatura Quente (°C)",
         "type": "scatter",
         "x": [
          0,
          2,
          4,
          6,
          8,
          10,
          12,
          14,
          16,
          18,
          20
         ],
         "y": [
          80,
          75.88696935977329,
          72.08517493876015,
          68.57106525081232,
          65.32287096900852,
          62.32047006828294,
          59.54526317281612,
          56.98005833598526,
          54.608964539105145,
          52.41729324920175,
          50.391467425985866
         ]
        },
        {
         "hovertemplate": "<b>Distância: %{x:.2f} m</b><br>Temperatura Frio: %{y:.2f} °C<extra></extra>",
         "line": {
          "color": "blue"
         },
         "mode": "lines+markers",
         "name": "Temperatura Frio (°C)",
         "type": "scatter",
         "x": [
          0,
          2,
          4,
          6,
          8,
          10,
          12,
          14,
          16,
          18,
          20
         ],
         "y": [
          39.60296039512171,
          38.54680507964313,
          37.570569856195206,
          36.66820710941629,
          35.83412685169053,
          35.063162094101415,
          34.350536837791985,
          33.69183648744377,
          33.082980503590655,
          32.52019712435337,
          32
         ]
        }
       ],
       "layout": {
        "autosize": true,
        "legend": {
         "orientation": "v",
         "traceorder": "normal",
         "x": 1,
         "y": 1
        },
        "template": {
         "data": {
          "bar": [
           {
            "error_x": {
             "color": "#2a3f5f"
            },
            "error_y": {
             "color": "#2a3f5f"
            },
            "marker": {
             "line": {
              "color": "white",
              "width": 0.5
             },
             "pattern": {
              "fillmode": "overlay",
              "size": 10,
              "solidity": 0.2
             }
            },
            "type": "bar"
           }
          ],
          "barpolar": [
           {
            "marker": {
             "line": {
              "color": "white",
              "width": 0.5
             },
             "pattern": {
              "fillmode": "overlay",
              "size": 10,
              "solidity": 0.2
             }
            },
            "type": "barpolar"
           }
          ],
          "carpet": [
           {
            "aaxis": {
             "endlinecolor": "#2a3f5f",
             "gridcolor": "#C8D4E3",
             "linecolor": "#C8D4E3",
             "minorgridcolor": "#C8D4E3",
             "startlinecolor": "#2a3f5f"
            },
            "baxis": {
             "endlinecolor": "#2a3f5f",
             "gridcolor": "#C8D4E3",
             "linecolor": "#C8D4E3",
             "minorgridcolor": "#C8D4E3",
             "startlinecolor": "#2a3f5f"
            },
            "type": "carpet"
           }
          ],
          "choropleth": [
           {
            "colorbar": {
             "outlinewidth": 0,
             "ticks": ""
            },
            "type": "choropleth"
           }
          ],
          "contour": [
           {
            "colorbar": {
             "outlinewidth": 0,
             "ticks": ""
            },
            "colorscale": [
             [
              0,
              "#0d0887"
             ],
             [
              0.1111111111111111,
              "#46039f"
             ],
             [
              0.2222222222222222,
              "#7201a8"
             ],
             [
              0.3333333333333333,
              "#9c179e"
             ],
             [
              0.4444444444444444,
              "#bd3786"
             ],
             [
              0.5555555555555556,
              "#d8576b"
             ],
             [
              0.6666666666666666,
              "#ed7953"
             ],
             [
              0.7777777777777778,
              "#fb9f3a"
             ],
             [
              0.8888888888888888,
              "#fdca26"
             ],
             [
              1,
              "#f0f921"
             ]
            ],
            "type": "contour"
           }
          ],
          "contourcarpet": [
           {
            "colorbar": {
             "outlinewidth": 0,
             "ticks": ""
            },
            "type": "contourcarpet"
           }
          ],
          "heatmap": [
           {
            "colorbar": {
             "outlinewidth": 0,
             "ticks": ""
            },
            "colorscale": [
             [
              0,
              "#0d0887"
             ],
             [
              0.1111111111111111,
              "#46039f"
             ],
             [
              0.2222222222222222,
              "#7201a8"
             ],
             [
              0.3333333333333333,
              "#9c179e"
             ],
             [
              0.4444444444444444,
              "#bd3786"
             ],
             [
              0.5555555555555556,
              "#d8576b"
             ],
             [
              0.6666666666666666,
              "#ed7953"
             ],
             [
              0.7777777777777778,
              "#fb9f3a"
             ],
             [
              0.8888888888888888,
              "#fdca26"
             ],
             [
              1,
              "#f0f921"
             ]
            ],
            "type": "heatmap"
           }
          ],
          "heatmapgl": [
           {
            "colorbar": {
             "outlinewidth": 0,
             "ticks": ""
            },
            "colorscale": [
             [
              0,
              "#0d0887"
             ],
             [
              0.1111111111111111,
              "#46039f"
             ],
             [
              0.2222222222222222,
              "#7201a8"
             ],
             [
              0.3333333333333333,
              "#9c179e"
             ],
             [
              0.4444444444444444,
              "#bd3786"
             ],
             [
              0.5555555555555556,
              "#d8576b"
             ],
             [
              0.6666666666666666,
              "#ed7953"
             ],
             [
              0.7777777777777778,
              "#fb9f3a"
             ],
             [
              0.8888888888888888,
              "#fdca26"
             ],
             [
              1,
              "#f0f921"
             ]
            ],
            "type": "heatmapgl"
           }
          ],
          "histogram": [
           {
            "marker": {
             "pattern": {
              "fillmode": "overlay",
              "size": 10,
              "solidity": 0.2
             }
            },
            "type": "histogram"
           }
          ],
          "histogram2d": [
           {
            "colorbar": {
             "outlinewidth": 0,
             "ticks": ""
            },
            "colorscale": [
             [
              0,
              "#0d0887"
             ],
             [
              0.1111111111111111,
              "#46039f"
             ],
             [
              0.2222222222222222,
              "#7201a8"
             ],
             [
              0.3333333333333333,
              "#9c179e"
             ],
             [
              0.4444444444444444,
              "#bd3786"
             ],
             [
              0.5555555555555556,
              "#d8576b"
             ],
             [
              0.6666666666666666,
              "#ed7953"
             ],
             [
              0.7777777777777778,
              "#fb9f3a"
             ],
             [
              0.8888888888888888,
              "#fdca26"
             ],
             [
              1,
              "#f0f921"
             ]
            ],
            "type": "histogram2d"
           }
          ],
          "histogram2dcontour": [
           {
            "colorbar": {
             "outlinewidth": 0,
             "ticks": ""
            },
            "colorscale": [
             [
              0,
              "#0d0887"
             ],
             [
              0.1111111111111111,
              "#46039f"
             ],
             [
              0.2222222222222222,
              "#7201a8"
             ],
             [
              0.3333333333333333,
              "#9c179e"
             ],
             [
              0.4444444444444444,
              "#bd3786"
             ],
             [
              0.5555555555555556,
              "#d8576b"
             ],
             [
              0.6666666666666666,
              "#ed7953"
             ],
             [
              0.7777777777777778,
              "#fb9f3a"
             ],
             [
              0.8888888888888888,
              "#fdca26"
             ],
             [
              1,
              "#f0f921"
             ]
            ],
            "type": "histogram2dcontour"
           }
          ],
          "mesh3d": [
           {
            "colorbar": {
             "outlinewidth": 0,
             "ticks": ""
            },
            "type": "mesh3d"
           }
          ],
          "parcoords": [
           {
            "line": {
             "colorbar": {
              "outlinewidth": 0,
              "ticks": ""
             }
            },
            "type": "parcoords"
           }
          ],
          "pie": [
           {
            "automargin": true,
            "type": "pie"
           }
          ],
          "scatter": [
           {
            "fillpattern": {
             "fillmode": "overlay",
             "size": 10,
             "solidity": 0.2
            },
            "type": "scatter"
           }
          ],
          "scatter3d": [
           {
            "line": {
             "colorbar": {
              "outlinewidth": 0,
              "ticks": ""
             }
            },
            "marker": {
             "colorbar": {
              "outlinewidth": 0,
              "ticks": ""
             }
            },
            "type": "scatter3d"
           }
          ],
          "scattercarpet": [
           {
            "marker": {
             "colorbar": {
              "outlinewidth": 0,
              "ticks": ""
             }
            },
            "type": "scattercarpet"
           }
          ],
          "scattergeo": [
           {
            "marker": {
             "colorbar": {
              "outlinewidth": 0,
              "ticks": ""
             }
            },
            "type": "scattergeo"
           }
          ],
          "scattergl": [
           {
            "marker": {
             "colorbar": {
              "outlinewidth": 0,
              "ticks": ""
             }
            },
            "type": "scattergl"
           }
          ],
          "scattermapbox": [
           {
            "marker": {
             "colorbar": {
              "outlinewidth": 0,
              "ticks": ""
             }
            },
            "type": "scattermapbox"
           }
          ],
          "scatterpolar": [
           {
            "marker": {
             "colorbar": {
              "outlinewidth": 0,
              "ticks": ""
             }
            },
            "type": "scatterpolar"
           }
          ],
          "scatterpolargl": [
           {
            "marker": {
             "colorbar": {
              "outlinewidth": 0,
              "ticks": ""
             }
            },
            "type": "scatterpolargl"
           }
          ],
          "scatterternary": [
           {
            "marker": {
             "colorbar": {
              "outlinewidth": 0,
              "ticks": ""
             }
            },
            "type": "scatterternary"
           }
          ],
          "surface": [
           {
            "colorbar": {
             "outlinewidth": 0,
             "ticks": ""
            },
            "colorscale": [
             [
              0,
              "#0d0887"
             ],
             [
              0.1111111111111111,
              "#46039f"
             ],
             [
              0.2222222222222222,
              "#7201a8"
             ],
             [
              0.3333333333333333,
              "#9c179e"
             ],
             [
              0.4444444444444444,
              "#bd3786"
             ],
             [
              0.5555555555555556,
              "#d8576b"
             ],
             [
              0.6666666666666666,
              "#ed7953"
             ],
             [
              0.7777777777777778,
              "#fb9f3a"
             ],
             [
              0.8888888888888888,
              "#fdca26"
             ],
             [
              1,
              "#f0f921"
             ]
            ],
            "type": "surface"
           }
          ],
          "table": [
           {
            "cells": {
             "fill": {
              "color": "#EBF0F8"
             },
             "line": {
              "color": "white"
             }
            },
            "header": {
             "fill": {
              "color": "#C8D4E3"
             },
             "line": {
              "color": "white"
             }
            },
            "type": "table"
           }
          ]
         },
         "layout": {
          "annotationdefaults": {
           "arrowcolor": "#2a3f5f",
           "arrowhead": 0,
           "arrowwidth": 1
          },
          "autotypenumbers": "strict",
          "coloraxis": {
           "colorbar": {
            "outlinewidth": 0,
            "ticks": ""
           }
          },
          "colorscale": {
           "diverging": [
            [
             0,
             "#8e0152"
            ],
            [
             0.1,
             "#c51b7d"
            ],
            [
             0.2,
             "#de77ae"
            ],
            [
             0.3,
             "#f1b6da"
            ],
            [
             0.4,
             "#fde0ef"
            ],
            [
             0.5,
             "#f7f7f7"
            ],
            [
             0.6,
             "#e6f5d0"
            ],
            [
             0.7,
             "#b8e186"
            ],
            [
             0.8,
             "#7fbc41"
            ],
            [
             0.9,
             "#4d9221"
            ],
            [
             1,
             "#276419"
            ]
           ],
           "sequential": [
            [
             0,
             "#0d0887"
            ],
            [
             0.1111111111111111,
             "#46039f"
            ],
            [
             0.2222222222222222,
             "#7201a8"
            ],
            [
             0.3333333333333333,
             "#9c179e"
            ],
            [
             0.4444444444444444,
             "#bd3786"
            ],
            [
             0.5555555555555556,
             "#d8576b"
            ],
            [
             0.6666666666666666,
             "#ed7953"
            ],
            [
             0.7777777777777778,
             "#fb9f3a"
            ],
            [
             0.8888888888888888,
             "#fdca26"
            ],
            [
             1,
             "#f0f921"
            ]
           ],
           "sequentialminus": [
            [
             0,
             "#0d0887"
            ],
            [
             0.1111111111111111,
             "#46039f"
            ],
            [
             0.2222222222222222,
             "#7201a8"
            ],
            [
             0.3333333333333333,
             "#9c179e"
            ],
            [
             0.4444444444444444,
             "#bd3786"
            ],
            [
             0.5555555555555556,
             "#d8576b"
            ],
            [
             0.6666666666666666,
             "#ed7953"
            ],
            [
             0.7777777777777778,
             "#fb9f3a"
            ],
            [
             0.8888888888888888,
             "#fdca26"
            ],
            [
             1,
             "#f0f921"
            ]
           ]
          },
          "colorway": [
           "#636efa",
           "#EF553B",
           "#00cc96",
           "#ab63fa",
           "#FFA15A",
           "#19d3f3",
           "#FF6692",
           "#B6E880",
           "#FF97FF",
           "#FECB52"
          ],
          "font": {
           "color": "#2a3f5f"
          },
          "geo": {
           "bgcolor": "white",
           "lakecolor": "white",
           "landcolor": "white",
           "showlakes": true,
           "showland": true,
           "subunitcolor": "#C8D4E3"
          },
          "hoverlabel": {
           "align": "left"
          },
          "hovermode": "closest",
          "mapbox": {
           "style": "light"
          },
          "paper_bgcolor": "white",
          "plot_bgcolor": "white",
          "polar": {
           "angularaxis": {
            "gridcolor": "#EBF0F8",
            "linecolor": "#EBF0F8",
            "ticks": ""
           },
           "bgcolor": "white",
           "radialaxis": {
            "gridcolor": "#EBF0F8",
            "linecolor": "#EBF0F8",
            "ticks": ""
           }
          },
          "scene": {
           "xaxis": {
            "backgroundcolor": "white",
            "gridcolor": "#DFE8F3",
            "gridwidth": 2,
            "linecolor": "#EBF0F8",
            "showbackground": true,
            "ticks": "",
            "zerolinecolor": "#EBF0F8"
           },
           "yaxis": {
            "backgroundcolor": "white",
            "gridcolor": "#DFE8F3",
            "gridwidth": 2,
            "linecolor": "#EBF0F8",
            "showbackground": true,
            "ticks": "",
            "zerolinecolor": "#EBF0F8"
           },
           "zaxis": {
            "backgroundcolor": "white",
            "gridcolor": "#DFE8F3",
            "gridwidth": 2,
            "linecolor": "#EBF0F8",
            "showbackground": true,
            "ticks": "",
            "zerolinecolor": "#EBF0F8"
           }
          },
          "shapedefaults": {
           "line": {
            "color": "#2a3f5f"
           }
          },
          "ternary": {
           "aaxis": {
            "gridcolor": "#DFE8F3",
            "linecolor": "#A2B1C6",
            "ticks": ""
           },
           "baxis": {
            "gridcolor": "#DFE8F3",
            "linecolor": "#A2B1C6",
            "ticks": ""
           },
           "bgcolor": "white",
           "caxis": {
            "gridcolor": "#DFE8F3",
            "linecolor": "#A2B1C6",
            "ticks": ""
           }
          },
          "title": {
           "x": 0.05
          },
          "xaxis": {
           "automargin": true,
           "gridcolor": "#EBF0F8",
           "linecolor": "#EBF0F8",
           "ticks": "",
           "title": {
            "standoff": 15
           },
           "zerolinecolor": "#EBF0F8",
           "zerolinewidth": 2
          },
          "yaxis": {
           "automargin": true,
           "gridcolor": "#EBF0F8",
           "linecolor": "#EBF0F8",
           "ticks": "",
           "title": {
            "standoff": 15
           },
           "zerolinecolor": "#EBF0F8",
           "zerolinewidth": 2
          }
         }
        },
        "title": {
         "text": "Temperaturas em Função da Distância"
        },
        "xaxis": {
         "autorange": true,
         "range": [
          -1.183808776062113,
          21.18380877606211
         ],
         "title": {
          "text": "Distância (m)"
         },
         "type": "linear"
        },
        "yaxis": {
         "autorange": true,
         "range": [
          28.038834951456312,
          83.96116504854369
         ],
         "title": {
          "text": "Temperatura (°C)"
         },
         "type": "linear"
        }
       }
      },
      "image/png": "[encoded data removed]",
      "text/html": [
       "<div>                            <div id=\"84b7ad9b-45d5-4b01-9574-b985d5263b11\" class=\"plotly-graph-div\" style=\"height:525px; width:100%;\"></div>            <script type=\"text/javascript\">                require([\"plotly\"], function(Plotly) {                    window.PLOTLYENV=window.PLOTLYENV || {};                                    if (document.getElementById(\"84b7ad9b-45d5-4b01-9574-b985d5263b11\")) {                    Plotly.newPlot(                        \"84b7ad9b-45d5-4b01-9574-b985d5263b11\",                        [{\"hovertemplate\":\"<b>Dist\\u00e2ncia: %{x:.2f} m</b><br>Temperatura Quente: %{y:.2f} \\u00b0C<extra></extra>\",\"line\":{\"color\":\"red\"},\"mode\":\"lines+markers\",\"name\":\"Temperatura Quente (\\u00b0C)\",\"x\":[0.0,2.0,4.0,6.0,8.0,10.0,12.0,14.0,16.0,18.0,20.0],\"y\":[80.0,75.88696935977329,72.08517493876015,68.57106525081232,65.32287096900852,62.32047006828294,59.54526317281612,56.98005833598526,54.608964539105145,52.41729324920175,50.391467425985866],\"type\":\"scatter\"},{\"hovertemplate\":\"<b>Dist\\u00e2ncia: %{x:.2f} m</b><br>Temperatura Frio: %{y:.2f} \\u00b0C<extra></extra>\",\"line\":{\"color\":\"blue\"},\"mode\":\"lines+markers\",\"name\":\"Temperatura Frio (\\u00b0C)\",\"x\":[0.0,2.0,4.0,6.0,8.0,10.0,12.0,14.0,16.0,18.0,20.0],\"y\":[39.60296039512171,38.54680507964313,37.570569856195206,36.66820710941629,35.83412685169053,35.063162094101415,34.350536837791985,33.69183648744377,33.082980503590655,32.52019712435337,32.0],\"type\":\"scatter\"}],                        {\"template\":{\"data\":{\"barpolar\":[{\"marker\":{\"line\":{\"color\":\"white\",\"width\":0.5},\"pattern\":{\"fillmode\":\"overlay\",\"size\":10,\"solidity\":0.2}},\"type\":\"barpolar\"}],\"bar\":[{\"error_x\":{\"color\":\"#2a3f5f\"},\"error_y\":{\"color\":\"#2a3f5f\"},\"marker\":{\"line\":{\"color\":\"white\",\"width\":0.5},\"pattern\":{\"fillmode\":\"overlay\",\"size\":10,\"solidity\":0.2}},\"type\":\"bar\"}],\"carpet\":[{\"aaxis\":{\"endlinecolor\":\"#2a3f5f\",\"gridcolor\":\"#C8D4E3\",\"linecolor\":\"#C8D4E3\",\"minorgridcolor\":\"#C8D4E3\",\"startlinecolor\":\"#2a3f5f\"},\"baxis\":{\"endlinecolor\":\"#2a3f5f\",\"gridcolor\":\"#C8D4E3\",\"linecolor\":\"#C8D4E3\",\"minorgridcolor\":\"#C8D4E3\",\"startlinecolor\":\"#2a3f5f\"},\"type\":\"carpet\"}],\"choropleth\":[{\"colorbar\":{\"outlinewidth\":0,\"ticks\":\"\"},\"type\":\"choropleth\"}],\"contourcarpet\":[{\"colorbar\":{\"outlinewidth\":0,\"ticks\":\"\"},\"type\":\"contourcarpet\"}],\"contour\":[{\"colorbar\":{\"outlinewidth\":0,\"ticks\":\"\"},\"colorscale\":[[0.0,\"#0d0887\"],[0.1111111111111111,\"#46039f\"],[0.2222222222222222,\"#7201a8\"],[0.3333333333333333,\"#9c179e\"],[0.4444444444444444,\"#bd3786\"],[0.5555555555555556,\"#d8576b\"],[0.6666666666666666,\"#ed7953\"],[0.7777777777777778,\"#fb9f3a\"],[0.8888888888888888,\"#fdca26\"],[1.0,\"#f0f921\"]],\"type\":\"contour\"}],\"heatmapgl\":[{\"colorbar\":{\"outlinewidth\":0,\"ticks\":\"\"},\"colorscale\":[[0.0,\"#0d0887\"],[0.1111111111111111,\"#46039f\"],[0.2222222222222222,\"#7201a8\"],[0.3333333333333333,\"#9c179e\"],[0.4444444444444444,\"#bd3786\"],[0.5555555555555556,\"#d8576b\"],[0.6666666666666666,\"#ed7953\"],[0.7777777777777778,\"#fb9f3a\"],[0.8888888888888888,\"#fdca26\"],[1.0,\"#f0f921\"]],\"type\":\"heatmapgl\"}],\"heatmap\":[{\"colorbar\":{\"outlinewidth\":0,\"ticks\":\"\"},\"colorscale\":[[0.0,\"#0d0887\"],[0.1111111111111111,\"#46039f\"],[0.2222222222222222,\"#7201a8\"],[0.3333333333333333,\"#9c179e\"],[0.4444444444444444,\"#bd3786\"],[0.5555555555555556,\"#d8576b\"],[0.6666666666666666,\"#ed7953\"],[0.7777777777777778,\"#fb9f3a\"],[0.8888888888888888,\"#fdca26\"],[1.0,\"#f0f921\"]],\"type\":\"heatmap\"}],\"histogram2dcontour\":[{\"colorbar\":{\"outlinewidth\":0,\"ticks\":\"\"},\"colorscale\":[[0.0,\"#0d0887\"],[0.1111111111111111,\"#46039f\"],[0.2222222222222222,\"#7201a8\"],[0.3333333333333333,\"#9c179e\"],[0.4444444444444444,\"#bd3786\"],[0.5555555555555556,\"#d8576b\"],[0.6666666666666666,\"#ed7953\"],[0.7777777777777778,\"#fb9f3a\"],[0.8888888888888888,\"#fdca26\"],[1.0,\"#f0f921\"]],\"type\":\"histogram2dcontour\"}],\"histogram2d\":[{\"colorbar\":{\"outlinewidth\":0,\"ticks\":\"\"},\"colorscale\":[[0.0,\"#0d0887\"],[0.1111111111111111,\"#46039f\"],[0.2222222222222222,\"#7201a8\"],[0.3333333333333333,\"#9c179e\"],[0.4444444444444444,\"#bd3786\"],[0.5555555555555556,\"#d8576b\"],[0.6666666666666666,\"#ed7953\"],[0.7777777777777778,\"#fb9f3a\"],[0.8888888888888888,\"#fdca26\"],[1.0,\"#f0f921\"]],\"type\":\"histogram2d\"}],\"histogram\":[{\"marker\":{\"pattern\":{\"fillmode\":\"overlay\",\"size\":10,\"solidity\":0.2}},\"type\":\"histogram\"}],\"mesh3d\":[{\"colorbar\":{\"outlinewidth\":0,\"ticks\":\"\"},\"type\":\"mesh3d\"}],\"parcoords\":[{\"line\":{\"colorbar\":{\"outlinewidth\":0,\"ticks\":\"\"}},\"type\":\"parcoords\"}],\"pie\":[{\"automargin\":true,\"type\":\"pie\"}],\"scatter3d\":[{\"line\":{\"colorbar\":{\"outlinewidth\":0,\"ticks\":\"\"}},\"marker\":{\"colorbar\":{\"outlinewidth\":0,\"ticks\":\"\"}},\"type\":\"scatter3d\"}],\"scattercarpet\":[{\"marker\":{\"colorbar\":{\"outlinewidth\":0,\"ticks\":\"\"}},\"type\":\"scattercarpet\"}],\"scattergeo\":[{\"marker\":{\"colorbar\":{\"outlinewidth\":0,\"ticks\":\"\"}},\"type\":\"scattergeo\"}],\"scattergl\":[{\"marker\":{\"colorbar\":{\"outlinewidth\":0,\"ticks\":\"\"}},\"type\":\"scattergl\"}],\"scattermapbox\":[{\"marker\":{\"colorbar\":{\"outlinewidth\":0,\"ticks\":\"\"}},\"type\":\"scattermapbox\"}],\"scatterpolargl\":[{\"marker\":{\"colorbar\":{\"outlinewidth\":0,\"ticks\":\"\"}},\"type\":\"scatterpolargl\"}],\"scatterpolar\":[{\"marker\":{\"colorbar\":{\"outlinewidth\":0,\"ticks\":\"\"}},\"type\":\"scatterpolar\"}],\"scatter\":[{\"fillpattern\":{\"fillmode\":\"overlay\",\"size\":10,\"solidity\":0.2},\"type\":\"scatter\"}],\"scatterternary\":[{\"marker\":{\"colorbar\":{\"outlinewidth\":0,\"ticks\":\"\"}},\"type\":\"scatterternary\"}],\"surface\":[{\"colorbar\":{\"outlinewidth\":0,\"ticks\":\"\"},\"colorscale\":[[0.0,\"#0d0887\"],[0.1111111111111111,\"#46039f\"],[0.2222222222222222,\"#7201a8\"],[0.3333333333333333,\"#9c179e\"],[0.4444444444444444,\"#bd3786\"],[0.5555555555555556,\"#d8576b\"],[0.6666666666666666,\"#ed7953\"],[0.7777777777777778,\"#fb9f3a\"],[0.8888888888888888,\"#fdca26\"],[1.0,\"#f0f921\"]],\"type\":\"surface\"}],\"table\":[{\"cells\":{\"fill\":{\"color\":\"#EBF0F8\"},\"line\":{\"color\":\"white\"}},\"header\":{\"fill\":{\"color\":\"#C8D4E3\"},\"line\":{\"color\":\"white\"}},\"type\":\"table\"}]},\"layout\":{\"annotationdefaults\":{\"arrowcolor\":\"#2a3f5f\",\"arrowhead\":0,\"arrowwidth\":1},\"autotypenumbers\":\"strict\",\"coloraxis\":{\"colorbar\":{\"outlinewidth\":0,\"ticks\":\"\"}},\"colorscale\":{\"diverging\":[[0,\"#8e0152\"],[0.1,\"#c51b7d\"],[0.2,\"#de77ae\"],[0.3,\"#f1b6da\"],[0.4,\"#fde0ef\"],[0.5,\"#f7f7f7\"],[0.6,\"#e6f5d0\"],[0.7,\"#b8e186\"],[0.8,\"#7fbc41\"],[0.9,\"#4d9221\"],[1,\"#276419\"]],\"sequential\":[[0.0,\"#0d0887\"],[0.1111111111111111,\"#46039f\"],[0.2222222222222222,\"#7201a8\"],[0.3333333333333333,\"#9c179e\"],[0.4444444444444444,\"#bd3786\"],[0.5555555555555556,\"#d8576b\"],[0.6666666666666666,\"#ed7953\"],[0.7777777777777778,\"#fb9f3a\"],[0.8888888888888888,\"#fdca26\"],[1.0,\"#f0f921\"]],\"sequentialminus\":[[0.0,\"#0d0887\"],[0.1111111111111111,\"#46039f\"],[0.2222222222222222,\"#7201a8\"],[0.3333333333333333,\"#9c179e\"],[0.4444444444444444,\"#bd3786\"],[0.5555555555555556,\"#d8576b\"],[0.6666666666666666,\"#ed7953\"],[0.7777777777777778,\"#fb9f3a\"],[0.8888888888888888,\"#fdca26\"],[1.0,\"#f0f921\"]]},\"colorway\":[\"#636efa\",\"#EF553B\",\"#00cc96\",\"#ab63fa\",\"#FFA15A\",\"#19d3f3\",\"#FF6692\",\"#B6E880\",\"#FF97FF\",\"#FECB52\"],\"font\":{\"color\":\"#2a3f5f\"},\"geo\":{\"bgcolor\":\"white\",\"lakecolor\":\"white\",\"landcolor\":\"white\",\"showlakes\":true,\"showland\":true,\"subunitcolor\":\"#C8D4E3\"},\"hoverlabel\":{\"align\":\"left\"},\"hovermode\":\"closest\",\"mapbox\":{\"style\":\"light\"},\"paper_bgcolor\":\"white\",\"plot_bgcolor\":\"white\",\"polar\":{\"angularaxis\":{\"gridcolor\":\"#EBF0F8\",\"linecolor\":\"#EBF0F8\",\"ticks\":\"\"},\"bgcolor\":\"white\",\"radialaxis\":{\"gridcolor\":\"#EBF0F8\",\"linecolor\":\"#EBF0F8\",\"ticks\":\"\"}},\"scene\":{\"xaxis\":{\"backgroundcolor\":\"white\",\"gridcolor\":\"#DFE8F3\",\"gridwidth\":2,\"linecolor\":\"#EBF0F8\",\"showbackground\":true,\"ticks\":\"\",\"zerolinecolor\":\"#EBF0F8\"},\"yaxis\":{\"backgroundcolor\":\"white\",\"gridcolor\":\"#DFE8F3\",\"gridwidth\":2,\"linecolor\":\"#EBF0F8\",\"showbackground\":true,\"ticks\":\"\",\"zerolinecolor\":\"#EBF0F8\"},\"zaxis\":{\"backgroundcolor\":\"white\",\"gridcolor\":\"#DFE8F3\",\"gridwidth\":2,\"linecolor\":\"#EBF0F8\",\"showbackground\":true,\"ticks\":\"\",\"zerolinecolor\":\"#EBF0F8\"}},\"shapedefaults\":{\"line\":{\"color\":\"#2a3f5f\"}},\"ternary\":{\"aaxis\":{\"gridcolor\":\"#DFE8F3\",\"linecolor\":\"#A2B1C6\",\"ticks\":\"\"},\"baxis\":{\"gridcolor\":\"#DFE8F3\",\"linecolor\":\"#A2B1C6\",\"ticks\":\"\"},\"bgcolor\":\"white\",\"caxis\":{\"gridcolor\":\"#DFE8F3\",\"linecolor\":\"#A2B1C6\",\"ticks\":\"\"}},\"title\":{\"x\":0.05},\"xaxis\":{\"automargin\":true,\"gridcolor\":\"#EBF0F8\",\"linecolor\":\"#EBF0F8\",\"ticks\":\"\",\"title\":{\"standoff\":15},\"zerolinecolor\":\"#EBF0F8\",\"zerolinewidth\":2},\"yaxis\":{\"automargin\":true,\"gridcolor\":\"#EBF0F8\",\"linecolor\":\"#EBF0F8\",\"ticks\":\"\",\"title\":{\"standoff\":15},\"zerolinecolor\":\"#EBF0F8\",\"zerolinewidth\":2}}},\"legend\":{\"x\":1,\"y\":1,\"traceorder\":\"normal\",\"orientation\":\"v\"},\"title\":{\"text\":\"Temperaturas em Fun\\u00e7\\u00e3o da Dist\\u00e2ncia\"},\"xaxis\":{\"title\":{\"text\":\"Dist\\u00e2ncia (m)\"}},\"yaxis\":{\"title\":{\"text\":\"Temperatura (\\u00b0C)\"}}},                        {\"responsive\": true}                    ).then(function(){\n",
       "                            \n",
       "var gd = document.getElementById('84b7ad9b-45d5-4b01-9574-b985d5263b11');\n",
       "var x = new MutationObserver(function (mutations, observer) {{\n",
       "        var display = window.getComputedStyle(gd).display;\n",
       "        if (!display || display === 'none') {{\n",
       "            console.log([gd, 'removed!']);\n",
       "            Plotly.purge(gd);\n",
       "            observer.disconnect();\n",
       "        }}\n",
       "}});\n",
       "\n",
       "// Listen for the removal of the full notebook cells\n",
       "var notebookContainer = gd.closest('#notebook-container');\n",
       "if (notebookContainer) {{\n",
       "    x.observe(notebookContainer, {childList: true});\n",
       "}}\n",
       "\n",
       "// Listen for the clearing of the current output cell\n",
       "var outputEl = gd.closest('.output');\n",
       "if (outputEl) {{\n",
       "    x.observe(outputEl, {childList: true});\n",
       "}}\n",
       "\n",
       "                        })                };                });            </script>        </div>"
      ]
     },
     "metadata": {},
     "output_type": "display_data"
    }
   ],
   "source": [
    "# Criar gráfico\n",
    "fig = go.Figure()\n",
    "\n",
    "# Adicionar traços para as duas colunas de temperatura com cores especificadas\n",
    "fig.add_trace(go.Scatter(\n",
    "    x=df2['L(metro)'], \n",
    "    y=df2['Temperatura Quente (°C)'], \n",
    "    mode='lines+markers', \n",
    "    name='Temperatura Quente (°C)',\n",
    "    line=dict(color='red'),\n",
    "    hovertemplate='<b>Distância: %{x:.2f} m</b><br>Temperatura Quente: %{y:.2f} °C<extra></extra>'\n",
    "))\n",
    "\n",
    "fig.add_trace(go.Scatter(\n",
    "    x=df2['L(metro)'], \n",
    "    y=df2['Temperatura Frio (°C)'], \n",
    "    mode='lines+markers', \n",
    "    name='Temperatura Frio (°C)',\n",
    "    line=dict(color='blue'),\n",
    "    hovertemplate='<b>Distância: %{x:.2f} m</b><br>Temperatura Frio: %{y:.2f} °C<extra></extra>'\n",
    "))\n",
    "\n",
    "# Configurar título e rótulos\n",
    "fig.update_layout(\n",
    "    title='Temperaturas em Função da Distância',\n",
    "    xaxis_title='Distância (m)',\n",
    "    yaxis_title='Temperatura (°C)',\n",
    "    template='plotly_white',\n",
    "    legend=dict(\n",
    "        x=1,  # Posição horizontal da legenda\n",
    "        y=1,  # Posição vertical da legenda\n",
    "        traceorder='normal',\n",
    "        orientation='v'  # Orientação vertical\n",
    "    )\n",
    ")\n",
    "\n",
    "# Mostrar o gráfico\n",
    "fig.show()\n"
   ]
  },
  {
   "cell_type": "code",
   "execution_count": null,
   "id": "9b454679-b1e6-4792-9c28-ae2cf829afb0",
   "metadata": {
    "tags": []
   },
   "outputs": [],
   "source": []
  },
  {
   "cell_type": "code",
   "execution_count": null,
   "id": "e9c2c324-8b6e-4b0e-a7e1-aa4be4312150",
   "metadata": {},
   "outputs": [],
   "source": []
  },
  {
   "cell_type": "code",
   "execution_count": null,
   "id": "284e29d8-cea1-490f-868c-07cbd0cca1fc",
   "metadata": {},
   "outputs": [],
   "source": []
  }
 ],
 "metadata": {
  "kernelspec": {
   "display_name": "Python 3 (ipykernel)",
   "language": "python",
   "name": "python3"
  },
  "language_info": {
   "codemirror_mode": {
    "name": "ipython",
    "version": 3
   },
   "file_extension": ".py",
   "mimetype": "text/x-python",
   "name": "python",
   "nbconvert_exporter": "python",
   "pygments_lexer": "ipython3",
   "version": "3.11.5"
  }
 },
 "nbformat": 4,
 "nbformat_minor": 5
}
